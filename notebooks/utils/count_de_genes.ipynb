{
 "cells": [
  {
   "cell_type": "code",
   "execution_count": 5,
   "metadata": {},
   "outputs": [
    {
     "name": "stdout",
     "output_type": "stream",
     "text": [
      "----\n",
      "deseq2_Mo_vs_Ma_diff_locus\n",
      " --> up: 1136\n",
      " --> down: 1273\n",
      "ratio: 0.8923802042419482\n",
      "----\n",
      "----\n",
      "deseq2_Liver_vs_Blood_diff_locus\n",
      " --> up: 2861\n",
      " --> down: 1527\n",
      "ratio: 1.8736083824492469\n",
      "----\n",
      "----\n",
      "deseq2_HG_vs_Ma_diff_locus\n",
      " --> up: 2414\n",
      " --> down: 2610\n",
      "ratio: 0.924904214559387\n",
      "----\n",
      "----\n",
      "deseq2_HG_vs_He_diff_locus\n",
      " --> up: 1319\n",
      " --> down: 3360\n",
      "ratio: 0.3925595238095238\n",
      "----\n",
      "----\n",
      "deseq2_HG_vs_Mo_diff_locus\n",
      " --> up: 3079\n",
      " --> down: 3083\n",
      "ratio: 0.9987025624391827\n",
      "----\n",
      "----\n",
      "deseq2_He_vs_Mo_diff_locus\n",
      " --> up: 3456\n",
      " --> down: 1970\n",
      "ratio: 1.7543147208121828\n",
      "----\n",
      "----\n",
      "deseq2_He_vs_Ma_diff_locus\n",
      " --> up: 2978\n",
      " --> down: 1746\n",
      "ratio: 1.7056128293241695\n",
      "----\n",
      "0.8905196350654502\n"
     ]
    }
   ],
   "source": [
    "\n",
    "import os as os\n",
    "\n",
    "import pandas as pd\n",
    "\n",
    "input_path = '/TL/deep/fhgfs/projects/pebert/thesis/projects/statediff/deseq/bed_out'\n",
    "\n",
    "for bedfile in os.listdir(input_path):\n",
    "    if bedfile.endswith('diff_locus.bed'):\n",
    "        bedfile_path = os.path.join(input_path, bedfile)\n",
    "        table = pd.read_csv(bedfile_path, sep='\\t', header=0)\n",
    "        print('----')\n",
    "        print(bedfile.split('.')[0])\n",
    "        upreg = (table['log2fc'] > 0).sum()\n",
    "        print(' --> up: {}'.format(upreg))\n",
    "        downreg = (table['log2fc'] < 0).sum()\n",
    "        print(' --> down: {}'.format(downreg))\n",
    "        print('ratio: {}'.format(upreg / downreg))\n",
    "        print('----')\n",
    "\n",
    "# Mo vs Ma ratio in Wallner paper\n",
    "print(2245 / 2521)"
   ]
  }
 ],
 "metadata": {
  "kernelspec": {
   "display_name": "Python 3",
   "language": "python",
   "name": "python3"
  },
  "language_info": {
   "codemirror_mode": {
    "name": "ipython",
    "version": 3
   },
   "file_extension": ".py",
   "mimetype": "text/x-python",
   "name": "python",
   "nbconvert_exporter": "python",
   "pygments_lexer": "ipython3",
   "version": "3.6.7"
  }
 },
 "nbformat": 4,
 "nbformat_minor": 2
}
