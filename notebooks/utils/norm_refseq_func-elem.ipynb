{
 "cells": [
  {
   "cell_type": "code",
   "execution_count": 11,
   "metadata": {},
   "outputs": [],
   "source": [
    "\n",
    "import os as os\n",
    "import csv as csv\n",
    "import re as re\n",
    "import gzip as gz\n",
    "import operator as op\n",
    "\n",
    "import pandas as pd\n",
    "\n",
    "folder = '/TL/deep/fhgfs/projects/pebert/thesis/projects/statediff/references'\n",
    "\n",
    "inputfile = os.path.join(folder, 'raw', 'ucsc_refseq_func-elem.bed.gz')\n",
    "outputfile = os.path.join(folder, 'UCSC_hg38_RefSeqFuncElem_1-22X.bed')\n",
    "\n",
    "chrom_re = re.compile('chr[0-9X]+(\\s|$)')\n",
    "buffer = []\n",
    "counter = col.Counter()\n",
    "get_record = op.itemgetter(*('chrom', 'chromStart', 'chromEnd', 'soTerm', 'score', 'strand'))\n",
    "with gz.open(inputfile, 'rt') as tsv:\n",
    "    header = tsv.readline().strip().split('\\t')\n",
    "    header[0] = 'chrom'\n",
    "    rows = csv.DictReader(tsv, delimiter='\\t', fieldnames=header,\n",
    "                          dialect=csv.unix_dialect)\n",
    "    for row in rows:\n",
    "        if chrom_re.match(row['chrom']) is not None:\n",
    "            buffer.append(get_record(row))\n",
    "        \n",
    "df = pd.DataFrame.from_records(buffer, columns=['chrom', 'start', 'end', 'name', 'score', 'strand'])\n",
    "df.sort_values(['chrom', 'start'], inplace=True)\n",
    "df['score'] = df['end'].astype('int32') - df['start'].astype('int32')\n",
    "df['score'].clip(0, 1000, inplace=True)\n",
    "\n",
    "with open(outputfile, 'w') as dump:\n",
    "    _ = dump.write('#')\n",
    "    df.to_csv(dump, sep='\\t', index=False, header=True)\n"
   ]
  }
 ],
 "metadata": {
  "kernelspec": {
   "display_name": "Python 3",
   "language": "python",
   "name": "python3"
  },
  "language_info": {
   "codemirror_mode": {
    "name": "ipython",
    "version": 3
   },
   "file_extension": ".py",
   "mimetype": "text/x-python",
   "name": "python",
   "nbconvert_exporter": "python",
   "pygments_lexer": "ipython3",
   "version": "3.5.5"
  }
 },
 "nbformat": 4,
 "nbformat_minor": 2
}
