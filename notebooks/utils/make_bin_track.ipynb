{
 "cells": [
  {
   "cell_type": "code",
   "execution_count": 5,
   "metadata": {},
   "outputs": [],
   "source": [
    "\n",
    "import os as os\n",
    "\n",
    "project_root = '/TL/deep/fhgfs/projects/pebert/thesis/projects/statediff'\n",
    "chrom_len_file = os.path.join(project_root, 'references', 'ihec38_chrom_augo_trim.bed')\n",
    "\n",
    "seg_bin_file = os.path.join(project_root, 'references', 'chrom_bin_200bp.bg')\n",
    "\n",
    "with open(chrom_len_file, 'r') as chroms:\n",
    "    with open(seg_bin_file, 'w') as bins:\n",
    "        for line in chroms:\n",
    "            chrom, start, end = line.strip().split('\\t')\n",
    "            out, wait = '1', '0'\n",
    "            for s in range(int(start), int(end), 200):\n",
    "                _ = bins.write('\\t'.join([chrom, str(s), str(s + 200), out]) + '\\n')\n",
    "                out, wait = wait, out"
   ]
  }
 ],
 "metadata": {
  "kernelspec": {
   "display_name": "Python 3",
   "language": "python",
   "name": "python3"
  },
  "language_info": {
   "codemirror_mode": {
    "name": "ipython",
    "version": 3
   },
   "file_extension": ".py",
   "mimetype": "text/x-python",
   "name": "python",
   "nbconvert_exporter": "python",
   "pygments_lexer": "ipython3",
   "version": "3.5.5"
  }
 },
 "nbformat": 4,
 "nbformat_minor": 2
}
