{
 "cells": [
  {
   "cell_type": "code",
   "execution_count": 5,
   "metadata": {},
   "outputs": [],
   "source": [
    "\n",
    "import os as os\n",
    "import pandas as pd\n",
    "\n",
    "# what does this do?\n",
    "# for the enrichment analysis,\n",
    "# it is important to use an appropriate\n",
    "# background list. Since chrY is removed\n",
    "# from all datasets, create a corresponding\n",
    "# list of \"available\" genes that can be used\n",
    "# as custom background in GeneTrail\n",
    "\n",
    "# the processed DESeq2 output files are already\n",
    "# filtered in the right way, just merge two\n",
    "# and dump the gene IDs\n",
    "input_folder = '/TL/deep/fhgfs/projects/pebert/thesis/projects/statediff/deseq/bed_out'\n",
    "\n",
    "input_diff = os.path.join(input_folder, 'deseq2_He_vs_Mo_diff_body.bed')\n",
    "input_stable = os.path.join(input_folder, 'deseq2_He_vs_Mo_stable_body.bed')\n",
    "\n",
    "deg = pd.read_csv(input_diff, sep='\\t', header=0)\n",
    "\n",
    "seg = pd.read_csv(input_stable, sep='\\t', header=0)\n",
    "\n",
    "genes = pd.concat([deg, seg], axis=0, ignore_index=False)\n",
    "\n",
    "assert genes['name'].size == genes['name'].unique().size, 'Gene sets not disjoint'\n",
    "\n",
    "genes['ens_id'] = genes['name'].str.extract('(?P<ENS>\\w+)', expand=False)\n",
    "genes['name'] = genes['ens_id']\n",
    "genes['score'] = genes['end'] - genes['start']\n",
    "genes['score'] = genes['score'].clip(lower=0, upper=1000, inplace=False)\n",
    "\n",
    "genes.sort_values(by=['#chrom', 'start', 'end'], inplace=True)\n",
    "\n",
    "ref_folder = '/TL/deep/fhgfs/projects/pebert/thesis/projects/statediff/references'\n",
    "bglist = 'gencode_v21_pcg_bglist'\n",
    "\n",
    "bed_out = os.path.join(ref_folder, bglist + '.bed')\n",
    "\n",
    "genes.to_csv(bed_out, sep='\\t', header=True, index=False,\n",
    "             columns=['#chrom', 'start', 'end', 'name', 'score', 'strand', 'symbol'])\n",
    "\n",
    "tsv_out = os.path.join(ref_folder, bglist + '.tsv')\n",
    "\n",
    "genes.to_csv(tsv_out, sep='\\t', header=False, index=False,\n",
    "             columns=['name'])\n"
   ]
  }
 ],
 "metadata": {
  "kernelspec": {
   "display_name": "Python 3",
   "language": "python",
   "name": "python3"
  },
  "language_info": {
   "codemirror_mode": {
    "name": "ipython",
    "version": 3
   },
   "file_extension": ".py",
   "mimetype": "text/x-python",
   "name": "python",
   "nbconvert_exporter": "python",
   "pygments_lexer": "ipython3",
   "version": "3.5.5"
  }
 },
 "nbformat": 4,
 "nbformat_minor": 2
}
