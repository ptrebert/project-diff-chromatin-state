{
 "cells": [
  {
   "cell_type": "code",
   "execution_count": 11,
   "metadata": {},
   "outputs": [
    {
     "name": "stdout",
     "output_type": "stream",
     "text": [
      "(16311, 7)\n",
      "(2211, 7)\n",
      "Original stats\n",
      "(16334, 7)\n",
      "(2409, 7)\n",
      "0.7983651226158038\n",
      "(101552, 4)\n",
      "[ 3.  5. 12.]\n",
      "[7.87906553e+08 2.46682722e+10 1.19389361e+11]\n",
      "(2166, 4)\n",
      "(121880, 4)\n",
      "[ 3.  6. 15.]\n",
      "[3.44460569e+09 3.79883899e+10 1.60709089e+11]\n",
      "(1874, 4)\n",
      "[('A', 'A'), ('A', 'B'), ('A', 'C'), ('B', 'B'), ('B', 'C'), ('C', 'C')]\n"
     ]
    }
   ],
   "source": [
    "\n",
    "import os as os\n",
    "import itertools as itt\n",
    "\n",
    "import numpy as np\n",
    "import pandas as pd\n",
    "\n",
    "path = '/TL/deep/fhgfs/projects/pebert/thesis/projects/statediff/temp/test_deseq/deseq_out'\n",
    "fname = 'deseq2_Ma_vs_Mo.tsv'\n",
    "\n",
    "use_genes = pd.read_csv('/TL/deep/fhgfs/projects/pebert/thesis/projects/statediff/references/gencode_v21_pcg_bglist.bed',\n",
    "                        header=0, sep='\\t')\n",
    "\n",
    "df = pd.read_csv(os.path.join(path, fname), sep='\\t', header=None,\n",
    "                 names=['name', 'baseMean', 'log2FoldChange', 'lfcSE', 'stat', 'pvalue', 'padj'],\n",
    "                 skiprows=1)\n",
    "df['name'] = df['name'].str.extract('(?P<ENSID>\\w+)', expand=False)\n",
    "df = df.loc[df['name'].isin(use_genes['name']), :].copy()\n",
    "df.fillna(-1, inplace=True)\n",
    "regular = df.loc[df['padj'] != -1, :]\n",
    "print(regular.shape)\n",
    "#deg1 = regular.loc[regular['padj'] < 0.05, :]\n",
    "select_de = np.logical_and(regular['padj'] < 0.01, regular['log2FoldChange'].abs() > 2)\n",
    "deg1 = regular.loc[select_de, :]\n",
    "print(deg1.shape)\n",
    "\n",
    "sub_bed = use_genes.loc[use_genes['name'].isin(deg1['name']), :]\n",
    "out_bed = os.path.join('/TL/deep/fhgfs/projects/pebert/thesis/projects/statediff/temp/deg_Ma_vs_Mo.bed')\n",
    "sub_bed.to_csv(out_bed, sep='\\t', header=True, index=False)\n",
    "\n",
    "print('Original stats')\n",
    "\n",
    "src_path = '/TL/deep/fhgfs/projects/pebert/thesis/projects/statediff/deseq/deep'\n",
    "src_file = 'deseq2_Ma_vs_Mo.tsv'\n",
    "\n",
    "df2 = pd.read_csv(os.path.join(src_path, src_file), sep='\\t', header=None,\n",
    "                  names=['name', 'baseMean', 'log2FoldChange', 'lfcSE', 'stat', 'pvalue', 'padj'],\n",
    "                  skiprows=1)\n",
    "df2['name'] = df2['name'].str.extract('(?P<ENSID>\\w+)', expand=False)\n",
    "df2 = df2.loc[df2['name'].isin(use_genes['name']), :].copy()\n",
    "df2.fillna(-1, inplace=True)\n",
    "reg2 = df2.loc[df2['padj'] != -1, :]\n",
    "print(reg2.shape)\n",
    "#deg2 = reg2.loc[reg2['padj'] < 0.05, :]\n",
    "select_de = np.logical_and(reg2['padj'] < 0.01, reg2['log2FoldChange'].abs() > 2)\n",
    "deg2 = reg2.loc[select_de, :]\n",
    "print(deg2.shape)\n",
    "\n",
    "intersect = set(deg2['name']).intersection(set(deg1['name']))\n",
    "union = set(deg2['name']).union(set(deg1['name']))\n",
    "\n",
    "print(len(intersect) / len(union))\n"
   ]
  }
 ],
 "metadata": {
  "kernelspec": {
   "display_name": "Python 3",
   "language": "python",
   "name": "python3"
  },
  "language_info": {
   "codemirror_mode": {
    "name": "ipython",
    "version": 3
   },
   "file_extension": ".py",
   "mimetype": "text/x-python",
   "name": "python",
   "nbconvert_exporter": "python",
   "pygments_lexer": "ipython3",
   "version": "3.5.5"
  }
 },
 "nbformat": 4,
 "nbformat_minor": 2
}
