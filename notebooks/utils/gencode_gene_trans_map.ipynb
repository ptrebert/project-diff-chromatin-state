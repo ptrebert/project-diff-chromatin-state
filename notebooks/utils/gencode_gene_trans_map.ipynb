{
 "cells": [
  {
   "cell_type": "code",
   "execution_count": 5,
   "metadata": {},
   "outputs": [],
   "source": [
    "\n",
    "import os as os\n",
    "import gzip as gz\n",
    "import io as io\n",
    "\n",
    "folder = '/TL/deep/fhgfs/projects/pebert/thesis/projects/statediff/references'\n",
    "\n",
    "inputfile = os.path.join(folder, 'gencode.v21.pc_transcripts.fa.gz')\n",
    "outputfile = os.path.join(folder, 'gencode_v21_pctr_gene.tsv')\n",
    "\n",
    "buffer = io.StringIO()\n",
    "with gz.open(inputfile, 'rt') as fasta:\n",
    "    for line in fasta:\n",
    "        if not line or not line.startswith('>'):\n",
    "            continue\n",
    "        trans, gene, _ = line.strip().strip('>').split('|', 2)\n",
    "        buffer.write('{}\\t{}\\n'.format(trans, gene))\n",
    "        \n",
    "with open(outputfile, 'w') as lut:\n",
    "    lut.write(buffer.getvalue())\n",
    "    "
   ]
  }
 ],
 "metadata": {
  "kernelspec": {
   "display_name": "Python 3",
   "language": "python",
   "name": "python3"
  },
  "language_info": {
   "codemirror_mode": {
    "name": "ipython",
    "version": 3
   },
   "file_extension": ".py",
   "mimetype": "text/x-python",
   "name": "python",
   "nbconvert_exporter": "python",
   "pygments_lexer": "ipython3",
   "version": "3.5.4"
  }
 },
 "nbformat": 4,
 "nbformat_minor": 2
}
