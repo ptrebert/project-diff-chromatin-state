{
 "cells": [
  {
   "cell_type": "code",
   "execution_count": 19,
   "metadata": {},
   "outputs": [
    {
     "name": "stdout",
     "output_type": "stream",
     "text": [
      "(1522, 8)\n",
      "1338\n"
     ]
    },
    {
     "ename": "RuntimeError",
     "evalue": "No active exception to reraise",
     "output_type": "error",
     "traceback": [
      "\u001b[0;31m---------------------------------------------------------------------------\u001b[0m",
      "\u001b[0;31mRuntimeError\u001b[0m                              Traceback (most recent call last)",
      "\u001b[0;32m<ipython-input-19-ea730c8a50c1>\u001b[0m in \u001b[0;36m<module>\u001b[0;34m()\u001b[0m\n\u001b[1;32m     60\u001b[0m     \u001b[0mprint\u001b[0m\u001b[0;34m(\u001b[0m\u001b[0mhkgenes\u001b[0m\u001b[0;34m[\u001b[0m\u001b[0;34m'Gene Symbol'\u001b[0m\u001b[0;34m]\u001b[0m\u001b[0;34m.\u001b[0m\u001b[0misin\u001b[0m\u001b[0;34m(\u001b[0m\u001b[0mgenes\u001b[0m\u001b[0;34m[\u001b[0m\u001b[0;34m'symbol'\u001b[0m\u001b[0;34m]\u001b[0m\u001b[0;34m)\u001b[0m\u001b[0;34m.\u001b[0m\u001b[0msum\u001b[0m\u001b[0;34m(\u001b[0m\u001b[0;34m)\u001b[0m\u001b[0;34m)\u001b[0m\u001b[0;34m\u001b[0m\u001b[0m\n\u001b[1;32m     61\u001b[0m \u001b[0;34m\u001b[0m\u001b[0m\n\u001b[0;32m---> 62\u001b[0;31m     \u001b[0;32mraise\u001b[0m\u001b[0;34m\u001b[0m\u001b[0m\n\u001b[0m\u001b[1;32m     63\u001b[0m \u001b[0;34m\u001b[0m\u001b[0m\n\u001b[1;32m     64\u001b[0m     \u001b[0mall_tpm\u001b[0m \u001b[0;34m=\u001b[0m \u001b[0mall_tpm\u001b[0m\u001b[0;34m.\u001b[0m\u001b[0mloc\u001b[0m\u001b[0;34m[\u001b[0m\u001b[0;34m(\u001b[0m\u001b[0mall_tpm\u001b[0m \u001b[0;34m>\u001b[0m \u001b[0;36m1\u001b[0m\u001b[0;34m)\u001b[0m\u001b[0;34m.\u001b[0m\u001b[0mall\u001b[0m\u001b[0;34m(\u001b[0m\u001b[0maxis\u001b[0m\u001b[0;34m=\u001b[0m\u001b[0;36m1\u001b[0m\u001b[0;34m)\u001b[0m\u001b[0;34m,\u001b[0m \u001b[0;34m:\u001b[0m\u001b[0;34m]\u001b[0m\u001b[0;34m.\u001b[0m\u001b[0mcopy\u001b[0m\u001b[0;34m(\u001b[0m\u001b[0;34m)\u001b[0m\u001b[0;34m\u001b[0m\u001b[0m\n",
      "\u001b[0;31mRuntimeError\u001b[0m: No active exception to reraise"
     ]
    }
   ],
   "source": [
    "\n",
    "import os as os\n",
    "import collections as col\n",
    "\n",
    "import numpy as np\n",
    "import pandas as pd\n",
    "\n",
    "fhgfs_path = '/TL/deep/fhgfs/projects/pebert/thesis/projects/statediff'\n",
    "quant_path = os.path.join(fhgfs_path, 'salmon', 'deep', 'quant')\n",
    "\n",
    "merger = col.defaultdict(list)\n",
    "\n",
    "outfile = os.path.join(fhgfs_path, 'salmon', 'deep', 'agg_gene_tpm.h5')\n",
    "\n",
    "if not os.path.isfile(outfile):  \n",
    "    print('Aggregating gene expression estimates...')\n",
    "\n",
    "    for root, dirs, files in os.walk(quant_path):\n",
    "        genefile = [f for f in files if f.endswith('.genes.sf')]\n",
    "        for gf in genefile:\n",
    "            sample = os.path.split(root)[-1][3:12]\n",
    "            fpath = os.path.join(root, gf)\n",
    "\n",
    "            df = pd.read_csv(fpath, sep='\\t', header=0)\n",
    "            df['Name'] = df['Name'].str.extract('(?P<ENSID>\\w+)')\n",
    "            ser = pd.Series(df['TPM'].values, index=df['Name'], dtype='float32')\n",
    "\n",
    "            ser.index.name = sample\n",
    "            celltype = sample[-2:]\n",
    "            merger[celltype].append(ser)\n",
    "        \n",
    "    with pd.HDFStore(outfile, 'w') as hdf:\n",
    "        for ct, samples in merger.items():\n",
    "            mrg = pd.DataFrame(samples, columns=samples[0].index.values,\n",
    "                               index=[s.index.name for s in samples],\n",
    "                               dtype='float32')\n",
    "            mrg.index.name = 'sample'\n",
    "            mrg = mrg.transpose()\n",
    "\n",
    "            hdf.put('gene_tpm/{}'.format(ct), mrg, format='fixed')\n"
   ]
  }
 ],
 "metadata": {
  "kernelspec": {
   "display_name": "Python 3",
   "language": "python",
   "name": "python3"
  },
  "language_info": {
   "codemirror_mode": {
    "name": "ipython",
    "version": 3
   },
   "file_extension": ".py",
   "mimetype": "text/x-python",
   "name": "python",
   "nbconvert_exporter": "python",
   "pygments_lexer": "ipython3",
   "version": "3.5.5"
  }
 },
 "nbformat": 4,
 "nbformat_minor": 2
}
