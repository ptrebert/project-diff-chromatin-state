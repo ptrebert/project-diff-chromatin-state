{
 "cells": [
  {
   "cell_type": "code",
   "execution_count": 1,
   "metadata": {
    "collapsed": true
   },
   "outputs": [],
   "source": [
    "\n",
    "import os as os\n",
    "import re as re\n",
    "import gzip as gz\n",
    "\n",
    "folder = '/TL/deep/fhgfs/projects/pebert/thesis/projects/statediff/references'\n",
    "\n",
    "inputfile = os.path.join(folder, 'raw', 'EnsRB_v78_hg38_multi.gff.gz')\n",
    "outputfile = os.path.join(folder, 'EnsRB_v78_hg38_multi_1-22X.bed')\n",
    "\n",
    "feat_map = {'TF_binding_site': 'tfbs', 'enhancer': 'enhancer',\n",
    "            'CTCF_binding_site': 'ctcf', 'open_chromatin_region': 'open',\n",
    "            'promoter': 'promoter', 'promoter_flanking_region': 'flanking'}\n",
    "\n",
    "chrom_re = re.compile('chr[0-9X]+(\\s|$)')\n",
    "buffer = []\n",
    "with gz.open(inputfile, 'rt') as gff:\n",
    "    for line in gff:\n",
    "        if line:\n",
    "            parts = line.split(maxsplit=8)\n",
    "            chrom, start, end, regtype = parts[0], parts[3], parts[4], parts[2]\n",
    "            mobj = chrom_re.match(chrom)\n",
    "            if mobj is None:\n",
    "                continue\n",
    "            regtype = feat_map[regtype]\n",
    "            regid = 'noid'\n",
    "            for attr in parts[8].split(';'):\n",
    "                if attr.startswith('ID='):\n",
    "                    regid = attr.split('=')[1]\n",
    "                    break\n",
    "            if regid == 'noid':\n",
    "                raise ValueError('No ID: {}'.format(line.strip()))\n",
    "            buffer.append((chrom, start, end, regid, str(int(end) - int(start)), '.', regtype))\n",
    "        \n",
    "buffer = sorted(buffer, key=lambda x: (x[0], int(x[1]), int(x[2])))\n",
    "\n",
    "out_header = ['#chrom', 'start', 'end', 'name', 'length', 'strand', 'feature']\n",
    "with open(outputfile, 'w') as dump:\n",
    "    buffer = ['\\t'.join(t) for t in buffer]\n",
    "    buffer.append('')\n",
    "    _ = dump.write('\\t'.join(out_header))\n",
    "    _ = dump.write('\\n')\n",
    "    _ = dump.write('\\n'.join(buffer))\n"
   ]
  }
 ],
 "metadata": {
  "kernelspec": {
   "display_name": "Python 3",
   "language": "python",
   "name": "python3"
  },
  "language_info": {
   "codemirror_mode": {
    "name": "ipython",
    "version": 3
   },
   "file_extension": ".py",
   "mimetype": "text/x-python",
   "name": "python",
   "nbconvert_exporter": "python",
   "pygments_lexer": "ipython3",
   "version": "3.5.5"
  }
 },
 "nbformat": 4,
 "nbformat_minor": 2
}
