{
 "cells": [
  {
   "cell_type": "code",
   "execution_count": 1,
   "metadata": {},
   "outputs": [
    {
     "name": "stdout",
     "output_type": "stream",
     "text": [
      "       miR_family    name  symbol transcript  species  utr_start  utr_end  \\\n",
      "104136   miR-7-5p  CDR1as  CDR1as     CDR1as     9606        205      212   \n",
      "104146   miR-7-5p  CDR1as  CDR1as     CDR1as     9606       1391     1398   \n",
      "104153   miR-7-5p  CDR1as  CDR1as     CDR1as     9606       1246     1253   \n",
      "104157   miR-7-5p  CDR1as  CDR1as     CDR1as     9606        578      585   \n",
      "104160   miR-7-5p  CDR1as  CDR1as     CDR1as     9606       1282     1289   \n",
      "\n",
      "        msa_start  msa_end seed_match  pct  \n",
      "104136        358      367       8mer  0.0  \n",
      "104146       3615     3622       8mer  0.0  \n",
      "104153       3193     3202       8mer  0.0  \n",
      "104157       1636     1678       8mer  0.0  \n",
      "104160       3278     3285       8mer  0.0  \n"
     ]
    }
   ],
   "source": [
    "\n",
    "import os as os\n",
    "\n",
    "import pandas as pd\n",
    "\n",
    "base_dir = '/TL/deep/fhgfs/projects/pebert/thesis/projects/statediff'\n",
    "\n",
    "input_path = os.path.join(base_dir, 'references', 'raw', 'TargetScan_v7.2_default_predictions.txt.zip')\n",
    "ts = pd.read_csv(input_path, delimiter='\\t', header=0)\n",
    "\n",
    "# throw away everything that is not human\n",
    "ts = ts.loc[ts['Species ID'] == 9606, :].copy()\n",
    "\n",
    "# Make proper column names\n",
    "new_cols = ['miR_family', 'name', 'symbol', 'transcript', 'species',\n",
    "            'utr_start', 'utr_end', 'msa_start', 'msa_end', 'seed_match', 'pct']\n",
    "ts.columns = new_cols\n",
    "ts['name'] = ts['name'].str.extract('(?P<NAME>\\w+)', expand=False)\n",
    "ts['transcript'] = ts['transcript'].str.extract('(?P<TRANS>\\w+)', expand=False)\n",
    "ts.sort_values(['name', 'pct'], inplace=True)\n",
    "\n",
    "output_path = os.path.join(base_dir, 'references', 'TargetScan_v7.2_default.h5')\n",
    "\n",
    "with pd.HDFStore(output_path, 'w') as hdf:\n",
    "    hdf.put('targetscan_v72/default', ts, format='fixed')\n"
   ]
  }
 ],
 "metadata": {
  "kernelspec": {
   "display_name": "Python 3",
   "language": "python",
   "name": "python3"
  },
  "language_info": {
   "codemirror_mode": {
    "name": "ipython",
    "version": 3
   },
   "file_extension": ".py",
   "mimetype": "text/x-python",
   "name": "python",
   "nbconvert_exporter": "python",
   "pygments_lexer": "ipython3",
   "version": "3.5.5"
  }
 },
 "nbformat": 4,
 "nbformat_minor": 2
}
