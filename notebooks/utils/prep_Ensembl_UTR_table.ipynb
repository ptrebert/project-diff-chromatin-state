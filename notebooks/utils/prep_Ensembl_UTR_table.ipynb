{
 "cells": [
  {
   "cell_type": "code",
   "execution_count": 33,
   "metadata": {},
   "outputs": [],
   "source": [
    "import os as os\n",
    "import pandas as pd\n",
    "import numpy as np\n",
    "    \n",
    "path = '/TL/deep/fhgfs/projects/pebert/thesis/projects/statediff/references/'\n",
    "fname = '20180727_BioMart_ENSv78_UTRs.tsv.gz'\n",
    "fpath = os.path.join(path, fname)\n",
    "\n",
    "table = pd.read_csv(fpath, delimiter='\\t', header=0)\n",
    "table.columns = ['name', 'transcript', '5p_utr_start', '5p_utr_end',\n",
    "                 '3p_utr_start', '3p_utr_end', 'transcript_count']\n",
    "\n",
    "table.fillna(0, inplace=True)\n",
    "\n",
    "table['5p_utr_length'] = table['5p_utr_end'] - table['5p_utr_start']\n",
    "table['3p_utr_length'] = table['3p_utr_end'] - table['3p_utr_start']\n",
    "\n",
    "selector = np.logical_and(table['5p_utr_length'] == 0, table['3p_utr_length'] == 0)\n",
    "table = table.loc[~selector, :].copy()\n",
    "\n",
    "int_columns = ['5p_utr_start', '5p_utr_end', '3p_utr_start', '3p_utr_end',\n",
    "               'transcript_count', '5p_utr_length', '3p_utr_length']\n",
    "\n",
    "table.loc[:, int_columns] = table[int_columns].astype(np.int32)\n",
    "table.drop_duplicates(inplace=True)\n",
    "\n",
    "out_file = os.path.join(path, '20180727_BioMart_ENSv78_UTRs.h5')\n",
    "\n",
    "with pd.HDFStore(out_file, 'w') as hdf:\n",
    "    hdf.put('Ensembl_v78/utr', table, format='fixed')\n",
    "    "
   ]
  }
 ],
 "metadata": {
  "kernelspec": {
   "display_name": "Python 3",
   "language": "python",
   "name": "python3"
  },
  "language_info": {
   "codemirror_mode": {
    "name": "ipython",
    "version": 3
   },
   "file_extension": ".py",
   "mimetype": "text/x-python",
   "name": "python",
   "nbconvert_exporter": "python",
   "pygments_lexer": "ipython3",
   "version": "3.5.5"
  }
 },
 "nbformat": 4,
 "nbformat_minor": 2
}
